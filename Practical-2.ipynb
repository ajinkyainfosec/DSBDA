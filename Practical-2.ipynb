{
 "cells": [
  {
   "cell_type": "code",
   "execution_count": 2,
   "id": "748a846c-3b07-4a0e-9f56-958c6545d59e",
   "metadata": {},
   "outputs": [],
   "source": [
    "import pandas as pd\n",
    "import numpy as np\n",
    "import matplotlib.pyplot as plt\n",
    "import seaborn as sns"
   ]
  },
  {
   "cell_type": "code",
   "execution_count": 3,
   "id": "6fdc12d7-290c-48d8-8b8c-60edd1c88438",
   "metadata": {},
   "outputs": [],
   "source": [
    "sns.set(style=\"whitegrid\")"
   ]
  },
  {
   "cell_type": "code",
   "execution_count": 4,
   "id": "d1969661-0665-4959-bd7e-580550e0ef5e",
   "metadata": {},
   "outputs": [],
   "source": [
    "data = pd.DataFrame({\n",
    "    'StudentID': range(1, 21),\n",
    "    'Age': [18, 19, 18, 20, 21, 18, 19, 20, 21, 22, 23, np.nan, 20, 21, 19, 18, 17, 22, 21, 20],\n",
    "    'Gender': ['M', 'F', 'M', 'F', 'M', 'F', 'M', 'F', 'M', 'F', 'M', 'M', 'F', 'F', 'M', 'F', 'M', 'F', 'M', 'F'],\n",
    "    'GPA': [3.5, 3.8, 2.9, 3.2, 3.0, 4.1, 2.7, 3.4, 3.6, 3.0, 3.2, 3.8, 3.1, 2.8, 3.7, 3.3, 3.2, 3.9, 4.5, 3.4],\n",
    "    'MathScore': [88, 92, 75, 85, 80, 101, 70, 82, 95, 79, 84, 90, 81, 77, 89, 83, 88, 91, 105, 87],\n",
    "    'EnglishScore': [85, 90, 78, 82, 76, 84, 75, np.nan, 88, 80, 83, 89, 80, 77, 90, 86, 84, 92, 95, 81],\n",
    "    'ScienceScore': [90, 88, 79, 85, 81, 100, 74, 88, 92, 76, 80, 86, 84, 79, 87, 82, 89, 93, 110, 83],\n",
    "    'AttendanceRate': [95, 96, 90, 88, 100, 110, 85, 92, 94, 96, 98, 87, 91, 88, 97, 95, 93, 92, 120, 89],\n",
    "    'StudyHours': [10, 15, 5, 20, 8, 30, 3, 10, 12, 9, 11, 25, 8, 7, 14, 10, 6, 15, 35, 9]\n",
    "})"
   ]
  },
  {
   "cell_type": "code",
   "execution_count": 5,
   "id": "1fdefd7f-2d76-4334-b87d-1603b00fd455",
   "metadata": {},
   "outputs": [
    {
     "name": "stdout",
     "output_type": "stream",
     "text": [
      "Initial Dataset:\n",
      "   StudentID   Age Gender  GPA  MathScore  EnglishScore  ScienceScore  \\\n",
      "0          1  18.0      M  3.5         88          85.0            90   \n",
      "1          2  19.0      F  3.8         92          90.0            88   \n",
      "2          3  18.0      M  2.9         75          78.0            79   \n",
      "3          4  20.0      F  3.2         85          82.0            85   \n",
      "4          5  21.0      M  3.0         80          76.0            81   \n",
      "\n",
      "   AttendanceRate  StudyHours  \n",
      "0              95          10  \n",
      "1              96          15  \n",
      "2              90           5  \n",
      "3              88          20  \n",
      "4             100           8  \n"
     ]
    }
   ],
   "source": [
    "print(\"Initial Dataset:\")\n",
    "print(data.head())"
   ]
  },
  {
   "cell_type": "code",
   "execution_count": 8,
   "id": "0c0a64bc-28c3-461f-aecd-8cf0166f6ef1",
   "metadata": {},
   "outputs": [
    {
     "name": "stdout",
     "output_type": "stream",
     "text": [
      "\n",
      "Missing values in each column:\n",
      "StudentID         0\n",
      "Age               1\n",
      "Gender            0\n",
      "GPA               0\n",
      "MathScore         0\n",
      "EnglishScore      1\n",
      "ScienceScore      0\n",
      "AttendanceRate    0\n",
      "StudyHours        0\n",
      "dtype: int64\n"
     ]
    }
   ],
   "source": [
    "print(\"\\nMissing values in each column:\")\n",
    "print(data.isnull().sum())"
   ]
  },
  {
   "cell_type": "code",
   "execution_count": 11,
   "id": "895960ae-6ccd-40b2-82c1-bb3c4fc36fe0",
   "metadata": {},
   "outputs": [
    {
     "name": "stdout",
     "output_type": "stream",
     "text": [
      "Filled missing values in 'Age' with median value: 20.0\n",
      "Filled missing values in 'EnglishScore' with median value: 84.0\n"
     ]
    }
   ],
   "source": [
    "numeric_cols = ['Age', 'EnglishScore']\n",
    "for col in numeric_cols:\n",
    "    median_val = data[col].median()\n",
    "    data[col].fillna(median_val)\n",
    "    print(f\"Filled missing values in '{col}' with median value: {median_val}\")"
   ]
  },
  {
   "cell_type": "code",
   "execution_count": 14,
   "id": "b835411b-0e99-4174-bd5d-0760b4cc8ea1",
   "metadata": {},
   "outputs": [
    {
     "name": "stdout",
     "output_type": "stream",
     "text": [
      "\n",
      "Missing values after imputation:\n",
      "StudentID         0\n",
      "Age               0\n",
      "Gender            0\n",
      "GPA               0\n",
      "MathScore         0\n",
      "EnglishScore      0\n",
      "ScienceScore      0\n",
      "AttendanceRate    0\n",
      "StudyHours        0\n",
      "dtype: int64\n"
     ]
    }
   ],
   "source": [
    "print(\"\\nMissing values after imputation:\")\n",
    "print(data.isnull().sum())"
   ]
  },
  {
   "cell_type": "code",
   "execution_count": 15,
   "id": "b6136627-79a8-4b99-b3ff-411b6a2beaf5",
   "metadata": {},
   "outputs": [
    {
     "name": "stdout",
     "output_type": "stream",
     "text": [
      "\n",
      "GPA values after capping:\n",
      "0     3.5\n",
      "1     3.8\n",
      "2     2.9\n",
      "3     3.2\n",
      "4     3.0\n",
      "5     4.0\n",
      "6     2.7\n",
      "7     3.4\n",
      "8     3.6\n",
      "9     3.0\n",
      "10    3.2\n",
      "11    3.8\n",
      "12    3.1\n",
      "13    2.8\n",
      "14    3.7\n",
      "15    3.3\n",
      "16    3.2\n",
      "17    3.9\n",
      "18    4.0\n",
      "19    3.4\n",
      "Name: GPA, dtype: float64\n"
     ]
    }
   ],
   "source": [
    "data.loc[data['GPA'] > 4.0, 'GPA'] = 4.0\n",
    "print(\"\\nGPA values after capping:\")\n",
    "print(data['GPA'])"
   ]
  },
  {
   "cell_type": "code",
   "execution_count": 18,
   "id": "90639fc3-4f85-411e-a4da-d75014acc36a",
   "metadata": {},
   "outputs": [
    {
     "name": "stdout",
     "output_type": "stream",
     "text": [
      "\n",
      "MathScore and ScienceScore after capping:\n",
      "    MathScore  ScienceScore\n",
      "0          88            90\n",
      "1          92            88\n",
      "2          75            79\n",
      "3          85            85\n",
      "4          80            81\n",
      "5         100           100\n",
      "6          70            74\n",
      "7          82            88\n",
      "8          95            92\n",
      "9          79            76\n",
      "10         84            80\n",
      "11         90            86\n",
      "12         81            84\n",
      "13         77            79\n",
      "14         89            87\n",
      "15         83            82\n",
      "16         88            89\n",
      "17         91            93\n",
      "18        100           100\n",
      "19         87            83\n"
     ]
    }
   ],
   "source": [
    "data.loc[data['MathScore'] > 100, 'MathScore'] = 100\n",
    "data.loc[data['ScienceScore'] > 100, 'ScienceScore'] = 100\n",
    "print(\"\\nMathScore and ScienceScore after capping:\")\n",
    "print(data[['MathScore', 'ScienceScore']])"
   ]
  },
  {
   "cell_type": "code",
   "execution_count": 19,
   "id": "0dc92813-4d81-4dc6-a4bc-a603f5348825",
   "metadata": {},
   "outputs": [
    {
     "name": "stdout",
     "output_type": "stream",
     "text": [
      "\n",
      "AttendanceRate after capping:\n",
      "0      95\n",
      "1      96\n",
      "2      90\n",
      "3      88\n",
      "4     100\n",
      "5     100\n",
      "6      85\n",
      "7      92\n",
      "8      94\n",
      "9      96\n",
      "10     98\n",
      "11     87\n",
      "12     91\n",
      "13     88\n",
      "14     97\n",
      "15     95\n",
      "16     93\n",
      "17     92\n",
      "18    100\n",
      "19     89\n",
      "Name: AttendanceRate, dtype: int64\n"
     ]
    }
   ],
   "source": [
    "data.loc[data['AttendanceRate'] > 100, 'AttendanceRate'] = 100\n",
    "print(\"\\nAttendanceRate after capping:\")\n",
    "print(data['AttendanceRate'])"
   ]
  },
  {
   "cell_type": "code",
   "execution_count": 20,
   "id": "1c0493e0-822e-4067-a54a-bc8afe089ebe",
   "metadata": {},
   "outputs": [],
   "source": [
    "Q1 = data['StudyHours'].quantile(0.25)\n",
    "Q3 = data['StudyHours'].quantile(0.75)\n",
    "IQR = Q3 - Q1\n",
    "lower_bound = Q1 - 1.5 * IQR\n",
    "upper_bound = Q3 + 1.5 * IQR"
   ]
  },
  {
   "cell_type": "code",
   "execution_count": 21,
   "id": "71a939f9-bd7e-488a-8143-ec8a08abd179",
   "metadata": {},
   "outputs": [
    {
     "name": "stdout",
     "output_type": "stream",
     "text": [
      "\n",
      "StudyHours Outlier Detection:\n",
      "Q1: 8.0, Q3: 15.0, IQR: 7.0\n",
      "Lower Bound: -2.5, Upper Bound: 25.5\n"
     ]
    }
   ],
   "source": [
    "print(f\"\\nStudyHours Outlier Detection:\")\n",
    "print(f\"Q1: {Q1}, Q3: {Q3}, IQR: {IQR}\")\n",
    "print(f\"Lower Bound: {lower_bound}, Upper Bound: {upper_bound}\")"
   ]
  },
  {
   "cell_type": "code",
   "execution_count": 22,
   "id": "4b9f6a3a-1987-42cb-9085-025f37e860ce",
   "metadata": {},
   "outputs": [
    {
     "name": "stdout",
     "output_type": "stream",
     "text": [
      "\n",
      "Outliers in StudyHours:\n",
      "    StudentID  StudyHours\n",
      "5           6          30\n",
      "18         19          35\n"
     ]
    }
   ],
   "source": [
    "outliers = data[(data['StudyHours'] < lower_bound) | (data['StudyHours'] > upper_bound)]\n",
    "print(\"\\nOutliers in StudyHours:\")\n",
    "print(outliers[['StudentID', 'StudyHours']])"
   ]
  },
  {
   "cell_type": "code",
   "execution_count": 26,
   "id": "4248c2f3-04d6-42aa-a352-d01000d310e6",
   "metadata": {},
   "outputs": [],
   "source": [
    "data['StudyHours'] = np.where(data['StudyHours'] < lower_bound, lower_bound, data['StudyHours'])\n",
    "data['StudyHours'] = np.where(data['StudyHours'] > upper_bound, upper_bound, data['StudyHours'])"
   ]
  },
  {
   "cell_type": "code",
   "execution_count": 27,
   "id": "db350ef0-a1e0-457a-87b7-53452087cda4",
   "metadata": {},
   "outputs": [
    {
     "name": "stdout",
     "output_type": "stream",
     "text": [
      "\n",
      "StudyHours after capping outliers:\n",
      "0     10.0\n",
      "1     15.0\n",
      "2      5.0\n",
      "3     20.0\n",
      "4      8.0\n",
      "5     25.5\n",
      "6      3.0\n",
      "7     10.0\n",
      "8     12.0\n",
      "9      9.0\n",
      "10    11.0\n",
      "11    25.0\n",
      "12     8.0\n",
      "13     7.0\n",
      "14    14.0\n",
      "15    10.0\n",
      "16     6.0\n",
      "17    15.0\n",
      "18    25.5\n",
      "19     9.0\n",
      "Name: StudyHours, dtype: float64\n"
     ]
    }
   ],
   "source": [
    "print(\"\\nStudyHours after capping outliers:\")\n",
    "print(data['StudyHours'])"
   ]
  },
  {
   "cell_type": "code",
   "execution_count": 34,
   "id": "96132304-cbb5-477f-a192-7d41ea06f756",
   "metadata": {},
   "outputs": [
    {
     "data": {
      "image/png": "[encoded data removed]",
      "text/plain": [
       "<Figure size 800x400 with 1 Axes>"
      ]
     },
     "metadata": {},
     "output_type": "display_data"
    }
   ],
   "source": [
    "plt.figure(figsize=(8,4))\n",
    "sns.histplot(data['StudyHours'], kde=True)\n",
    "plt.title(\"Distribution of StudyHours (Before Log Transformation)\")\n",
    "plt.xlabel(\"StudyHours\")\n",
    "plt.ylabel(\"Frequency\")\n",
    "plt.show()"
   ]
  },
  {
   "cell_type": "code",
   "execution_count": 35,
   "id": "168d50a1-49e3-45ce-9d3a-6a68120ede82",
   "metadata": {},
   "outputs": [],
   "source": [
    "data['LogStudyHours'] = np.log(data['StudyHours'])"
   ]
  },
  {
   "cell_type": "code",
   "execution_count": 36,
   "id": "78b26d0c-c56d-4a1a-8b5e-d162e15d71e2",
   "metadata": {},
   "outputs": [
    {
     "data": {
      "image/png": "[encoded data removed]",
      "text/plain": [
       "<Figure size 800x400 with 1 Axes>"
      ]
     },
     "metadata": {},
     "output_type": "display_data"
    }
   ],
   "source": [
    "plt.figure(figsize=(8,4))\n",
    "sns.histplot(data['LogStudyHours'], kde=True, color='orange')\n",
    "plt.title(\"Distribution of StudyHours (After Log Transformation)\")\n",
    "plt.xlabel(\"Log(StudyHours)\")\n",
    "plt.ylabel(\"Frequency\")\n",
    "plt.show()"
   ]
  },
  {
   "cell_type": "code",
   "execution_count": 37,
   "id": "e4d089e8-349e-47b5-b26a-4254156b14b3",
   "metadata": {},
   "outputs": [
    {
     "name": "stdout",
     "output_type": "stream",
     "text": [
      "\n",
      "Data with LogStudyHours added:\n",
      "    StudentID  StudyHours  LogStudyHours\n",
      "0           1        10.0       2.302585\n",
      "1           2        15.0       2.708050\n",
      "2           3         5.0       1.609438\n",
      "3           4        20.0       2.995732\n",
      "4           5         8.0       2.079442\n",
      "5           6        25.5       3.238678\n",
      "6           7         3.0       1.098612\n",
      "7           8        10.0       2.302585\n",
      "8           9        12.0       2.484907\n",
      "9          10         9.0       2.197225\n",
      "10         11        11.0       2.397895\n",
      "11         12        25.0       3.218876\n",
      "12         13         8.0       2.079442\n",
      "13         14         7.0       1.945910\n",
      "14         15        14.0       2.639057\n",
      "15         16        10.0       2.302585\n",
      "16         17         6.0       1.791759\n",
      "17         18        15.0       2.708050\n",
      "18         19        25.5       3.238678\n",
      "19         20         9.0       2.197225\n"
     ]
    }
   ],
   "source": [
    "print(\"\\nData with LogStudyHours added:\")\n",
    "print(data[['StudentID', 'StudyHours', 'LogStudyHours']])"
   ]
  },
  {
   "cell_type": "code",
   "execution_count": null,
   "id": "8cc65fdf-759a-4941-a908-4c704ce74312",
   "metadata": {},
   "outputs": [],
   "source": []
  }
 ],
 "metadata": {
  "kernelspec": {
   "display_name": "Python 3 (ipykernel)",
   "language": "python",
   "name": "python3"
  },
  "language_info": {
   "codemirror_mode": {
    "name": "ipython",
    "version": 3
   },
   "file_extension": ".py",
   "mimetype": "text/x-python",
   "name": "python",
   "nbconvert_exporter": "python",
   "pygments_lexer": "ipython3",
   "version": "3.10.6"
  }
 },
 "nbformat": 4,
 "nbformat_minor": 5
}
